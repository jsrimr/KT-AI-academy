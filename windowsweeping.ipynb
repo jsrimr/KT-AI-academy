{
 "cells": [
  {
   "cell_type": "code",
   "execution_count": 2,
   "metadata": {},
   "outputs": [],
   "source": [
    "import tensorflow as tf"
   ]
  },
  {
   "cell_type": "code",
   "execution_count": 3,
   "metadata": {},
   "outputs": [],
   "source": [
    "import pandas as pd\n",
    "import numpy as np"
   ]
  },
  {
   "cell_type": "code",
   "execution_count": 12,
   "metadata": {},
   "outputs": [],
   "source": [
    "data=pd.read_csv('Current.csv')"
   ]
  },
  {
   "cell_type": "code",
   "execution_count": 13,
   "metadata": {},
   "outputs": [],
   "source": [
    "from sklearn import preprocessing"
   ]
  },
  {
   "cell_type": "code",
   "execution_count": 14,
   "metadata": {},
   "outputs": [],
   "source": [
    "from sklearn.model_selection import train_test_split"
   ]
  },
  {
   "cell_type": "code",
   "execution_count": 15,
   "metadata": {},
   "outputs": [],
   "source": [
    "train,test=train_test_split(data,test_size=0.2)"
   ]
  },
  {
   "cell_type": "code",
   "execution_count": 16,
   "metadata": {},
   "outputs": [],
   "source": [
    "train=preprocessing.scale(train.iloc[:,1])\n",
    "test=preprocessing.scale(test.iloc[:,1])"
   ]
  },
  {
   "cell_type": "code",
   "execution_count": 5,
   "metadata": {},
   "outputs": [],
   "source": [
    "sess=tf.InteractiveSession()"
   ]
  },
  {
   "cell_type": "code",
   "execution_count": 31,
   "metadata": {},
   "outputs": [],
   "source": [
    "window_size=50\n",
    "strides=20\n",
    "X=tf.placeholder(tf.float32,[None,window_size])\n",
    "Y=tf.placeholder(tf.float32,[None,1])\n",
    "W=tf.get_variable(\"w\",shape=[50],initializer=tf.contrib.layers.xavier_initializer())"
   ]
  },
  {
   "cell_type": "code",
   "execution_count": 27,
   "metadata": {},
   "outputs": [],
   "source": [
    "train_df=pd.DataFrame()\n",
    "label=[]\n",
    "i=0\n",
    "while i+window_size<len(train):\n",
    "    tmp=pd.DataFrame(train[i:i+window_size]).transpose()\n",
    "    label.append(train[i+window_size])\n",
    "    train_df=pd.concat([train_df,tmp])\n",
    "    i+=strides"
   ]
  },
  {
   "cell_type": "code",
   "execution_count": 28,
   "metadata": {},
   "outputs": [
    {
     "data": {
      "text/plain": [
       "(3446, 50)"
      ]
     },
     "execution_count": 28,
     "metadata": {},
     "output_type": "execute_result"
    }
   ],
   "source": [
    "train_df.shape"
   ]
  },
  {
   "cell_type": "code",
   "execution_count": 30,
   "metadata": {},
   "outputs": [
    {
     "data": {
      "text/plain": [
       "3446"
      ]
     },
     "execution_count": 30,
     "metadata": {},
     "output_type": "execute_result"
    }
   ],
   "source": [
    "len(label)"
   ]
  },
  {
   "cell_type": "code",
   "execution_count": 37,
   "metadata": {},
   "outputs": [],
   "source": [
    "b=tf.Variable(tf.random_normal([1]))\n",
    "hypo=W*X+b\n",
    "cost=tf.reduce_mean(tf.square(hypo-Y))\n",
    "optimizer=tf.train.AdamOptimizer(0.01).minimize(cost)"
   ]
  },
  {
   "cell_type": "code",
   "execution_count": 40,
   "metadata": {},
   "outputs": [],
   "source": [
    "label=pd.DataFrame(label)"
   ]
  },
  {
   "cell_type": "code",
   "execution_count": 42,
   "metadata": {
    "collapsed": true
   },
   "outputs": [
    {
     "name": "stdout",
     "output_type": "stream",
     "text": [
      "epoch and cost :0,2.638145923614502\n",
      "epoch and cost :1,2.610203266143799\n",
      "epoch and cost :2,2.582686424255371\n",
      "epoch and cost :3,2.555622100830078\n",
      "epoch and cost :4,2.5289416313171387\n",
      "epoch and cost :5,2.5027291774749756\n",
      "epoch and cost :6,2.476750135421753\n",
      "epoch and cost :7,2.4512202739715576\n",
      "epoch and cost :8,2.425975799560547\n",
      "epoch and cost :9,2.4011735916137695\n",
      "epoch and cost :10,2.3765945434570312\n",
      "epoch and cost :11,2.3524820804595947\n",
      "epoch and cost :12,2.3287224769592285\n",
      "epoch and cost :13,2.30525279045105\n",
      "epoch and cost :14,2.282095432281494\n",
      "epoch and cost :15,2.2592623233795166\n",
      "epoch and cost :16,2.236685276031494\n",
      "epoch and cost :17,2.214460611343384\n",
      "epoch and cost :18,2.1926112174987793\n",
      "epoch and cost :19,2.1710379123687744\n",
      "epoch and cost :20,2.149716377258301\n",
      "epoch and cost :21,2.1286723613739014\n",
      "epoch and cost :22,2.107848882675171\n",
      "epoch and cost :23,2.087430238723755\n",
      "epoch and cost :24,2.0671582221984863\n",
      "epoch and cost :25,2.047184467315674\n",
      "epoch and cost :26,2.0275142192840576\n",
      "epoch and cost :27,2.0080039501190186\n",
      "epoch and cost :28,1.9889070987701416\n",
      "epoch and cost :29,1.969815731048584\n",
      "epoch and cost :30,1.9512147903442383\n",
      "epoch and cost :31,1.9327741861343384\n",
      "epoch and cost :32,1.9145194292068481\n",
      "epoch and cost :33,1.8965505361557007\n",
      "epoch and cost :34,1.878922462463379\n",
      "epoch and cost :35,1.8614240884780884\n",
      "epoch and cost :36,1.8441243171691895\n",
      "epoch and cost :37,1.8272268772125244\n",
      "epoch and cost :38,1.810545563697815\n",
      "epoch and cost :39,1.793993353843689\n",
      "epoch and cost :40,1.7777070999145508\n",
      "epoch and cost :41,1.7617000341415405\n",
      "epoch and cost :42,1.745888352394104\n",
      "epoch and cost :43,1.7303242683410645\n",
      "epoch and cost :44,1.714971899986267\n",
      "epoch and cost :45,1.6999231576919556\n",
      "epoch and cost :46,1.6850725412368774\n",
      "epoch and cost :47,1.6704516410827637\n",
      "epoch and cost :48,1.656087875366211\n",
      "epoch and cost :49,1.6419084072113037\n",
      "epoch and cost :50,1.627982497215271\n",
      "epoch and cost :51,1.6142868995666504\n",
      "epoch and cost :52,1.600791335105896\n",
      "epoch and cost :53,1.587599754333496\n",
      "epoch and cost :54,1.574548363685608\n",
      "epoch and cost :55,1.5617694854736328\n",
      "epoch and cost :56,1.5491504669189453\n",
      "epoch and cost :57,1.5367943048477173\n",
      "epoch and cost :58,1.52460515499115\n",
      "epoch and cost :59,1.5126227140426636\n",
      "epoch and cost :60,1.5008493661880493\n",
      "epoch and cost :61,1.489255428314209\n",
      "epoch and cost :62,1.4778575897216797\n",
      "epoch and cost :63,1.466670036315918\n",
      "epoch and cost :64,1.4557276964187622\n",
      "epoch and cost :65,1.4448734521865845\n",
      "epoch and cost :66,1.434338092803955\n",
      "epoch and cost :67,1.423871636390686\n",
      "epoch and cost :68,1.4136559963226318\n",
      "epoch and cost :69,1.4036377668380737\n",
      "epoch and cost :70,1.3937584161758423\n",
      "epoch and cost :71,1.384018063545227\n",
      "epoch and cost :72,1.3745554685592651\n",
      "epoch and cost :73,1.365252137184143\n",
      "epoch and cost :74,1.3560442924499512\n",
      "epoch and cost :75,1.347053050994873\n",
      "epoch and cost :76,1.3382538557052612\n",
      "epoch and cost :77,1.3296515941619873\n",
      "epoch and cost :78,1.321143388748169\n",
      "epoch and cost :79,1.3127976655960083\n",
      "epoch and cost :80,1.3046354055404663\n",
      "epoch and cost :81,1.2966492176055908\n",
      "epoch and cost :82,1.288820505142212\n",
      "epoch and cost :83,1.2810876369476318\n",
      "epoch and cost :84,1.2735763788223267\n",
      "epoch and cost :85,1.2661303281784058\n",
      "epoch and cost :86,1.2588820457458496\n",
      "epoch and cost :87,1.2517783641815186\n",
      "epoch and cost :88,1.244829535484314\n",
      "epoch and cost :89,1.2380156517028809\n",
      "epoch and cost :90,1.2313485145568848\n",
      "epoch and cost :91,1.224833369255066\n",
      "epoch and cost :92,1.2184404134750366\n",
      "epoch and cost :93,1.2121931314468384\n",
      "epoch and cost :94,1.206024408340454\n",
      "epoch and cost :95,1.1999706029891968\n",
      "epoch and cost :96,1.1940817832946777\n",
      "epoch and cost :97,1.188348650932312\n",
      "epoch and cost :98,1.182684063911438\n",
      "epoch and cost :99,1.1772346496582031\n"
     ]
    }
   ],
   "source": [
    "cost_list=[]\n",
    "sess.run(tf.global_variables_initializer())\n",
    "for epoch in range(100):\n",
    "    _,cost_val=sess.run([optimizer,cost],feed_dict={X:train_df,Y:label})\n",
    "    cost_list.append(cost_val)\n",
    "    print(\"epoch and cost :{0},{1}\".format(epoch,cost_val))"
   ]
  },
  {
   "cell_type": "code",
   "execution_count": 43,
   "metadata": {},
   "outputs": [],
   "source": [
    "test_df=pd.DataFrame()\n",
    "label_test=[]\n",
    "i=0\n",
    "while i+window_size<len(test):\n",
    "    tmp=pd.DataFrame(test[i:i+window_size]).transpose()\n",
    "    label_test.append(test[i+window_size])\n",
    "    test_df=pd.concat([test_df,tmp])\n",
    "    i+=strides"
   ]
  },
  {
   "cell_type": "code",
   "execution_count": 44,
   "metadata": {},
   "outputs": [],
   "source": [
    "label_test=pd.DataFrame(label_test)"
   ]
  },
  {
   "cell_type": "code",
   "execution_count": 46,
   "metadata": {},
   "outputs": [
    {
     "data": {
      "text/plain": [
       "1.3743021"
      ]
     },
     "execution_count": 46,
     "metadata": {},
     "output_type": "execute_result"
    }
   ],
   "source": [
    "#test\n",
    "sess.run(cost,feed_dict={X:test_df,Y:label_test})"
   ]
  }
 ],
 "metadata": {
  "kernelspec": {
   "display_name": "Python 3",
   "language": "python",
   "name": "python3"
  },
  "language_info": {
   "codemirror_mode": {
    "name": "ipython",
    "version": 3
   },
   "file_extension": ".py",
   "mimetype": "text/x-python",
   "name": "python",
   "nbconvert_exporter": "python",
   "pygments_lexer": "ipython3",
   "version": "3.6.4"
  }
 },
 "nbformat": 4,
 "nbformat_minor": 2
}
